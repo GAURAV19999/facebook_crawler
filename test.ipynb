{
 "cells": [
  {
   "cell_type": "code",
   "execution_count": 4,
   "metadata": {},
   "outputs": [],
   "source": [
    "import re\n",
    "import json\n",
    "import requests\n",
    "from bs4 import BeautifulSoup\n",
    "import time\n",
    "import datetime\n",
    "import pandas as pd\n",
    "import numpy as np\n",
    "\n",
    "# Fanspage Crawler\n",
    "\n",
    "## get page id\n",
    "def get_pageid(pageurl):\n",
    "    try:\n",
    "        headers= {'accept': 'text/html',\n",
    "                  'sec-fetch-mode': 'navigate'}\n",
    "        resp = requests.get(pageurl, headers=headers)\n",
    "        pageid = re.findall('page_id=(.*?)\"',resp.text)[0]\n",
    "        return pageid\n",
    "    except:\n",
    "        print('Error at get_pageid stage, please check the fanspage could visit in private mode.')\n",
    "        print(f'You Link: {pageurl}')"
   ]
  },
  {
   "cell_type": "code",
   "execution_count": 6,
   "metadata": {},
   "outputs": [
    {
     "name": "stdout",
     "output_type": "stream",
     "text": [
      "Error at get_pageid stage, please check the fanspage could visit in private mode.\n",
      "You Link: https://www.facebook.com/mopcaaon\n"
     ]
    }
   ],
   "source": [
    "pageurl = ['https://www.facebook.com/diudiu333',\n",
    "            'https://www.facebook.com/pycontw',\n",
    "            'https://www.facebook.com/mopcon']\n",
    "\n",
    "get_pageid(pageurl=pageurl[2])"
   ]
  },
  {
   "cell_type": "code",
   "execution_count": null,
   "metadata": {},
   "outputs": [],
   "source": []
  }
 ],
 "metadata": {
  "interpreter": {
   "hash": "f9f85f796d01129d0dd105a088854619f454435301f6ffec2fea96ecbd9be4ac"
  },
  "kernelspec": {
   "display_name": "Python 3.9.5 64-bit",
   "name": "python3"
  },
  "language_info": {
   "codemirror_mode": {
    "name": "ipython",
    "version": 3
   },
   "file_extension": ".py",
   "mimetype": "text/x-python",
   "name": "python",
   "nbconvert_exporter": "python",
   "pygments_lexer": "ipython3",
   "version": "3.9.5"
  },
  "orig_nbformat": 4
 },
 "nbformat": 4,
 "nbformat_minor": 2
}
